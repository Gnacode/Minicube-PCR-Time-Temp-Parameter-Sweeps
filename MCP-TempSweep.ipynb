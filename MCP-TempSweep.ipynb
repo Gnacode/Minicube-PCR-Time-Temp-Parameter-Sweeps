{
 "cells": [
  {
   "cell_type": "markdown",
   "metadata": {
    "extensions": {
     "jupyter_dashboards": {
      "version": 1,
      "views": {
       "grid_default": {
        "hidden": true
       },
       "report_default": {
        "hidden": false
       }
      }
     }
    }
   },
   "source": [
    "###  <font color=black>MCP - Setup Temperature Sweeps of Experiments</font>\n",
    "***"
   ]
  },
  {
   "cell_type": "markdown",
   "metadata": {
    "extensions": {
     "jupyter_dashboards": {
      "version": 1,
      "views": {
       "grid_default": {
        "col": 0,
        "height": 10,
        "hidden": false,
        "row": 0,
        "width": 12
       },
       "report_default": {
        "hidden": false
       }
      }
     }
    }
   },
   "source": [
    "<div class=\"alert alert-block alert-info\"> <p>NOTES: The format of the sweep for a three stage PCR looks as follows   <p><strong>MinicubeSweeps.threestage_pcr_tempsweep(  mcselected  , inimelttime, inimelttemp, initempstep, melttime, melttemp, melttempstep, anntime, anntemp, anntempstep, exttime, exttemp, exttempstep, tubestart, tubeend, num_of_cycles )</strong></p><p>Example: MinicubeSweeps.threestage_pcr_tempsweep(mcselected, 300, 95,0, 15,95,0, 15, 53,0.1, 10, 72,0, 1, 16, 32)</p></div><table style=\"width:100%\">\n",
    "  <tr>\n",
    "    <th>Minicube Object</th>\n",
    "    <th>Ini melt time</th> \n",
    "    <th>Ini melt temp</th>\n",
    "    <th>Ini melt incr temp</th>\n",
    "    <th>Melt time</th>\n",
    "    <th>Melt temp</th>\n",
    "    <th>Melt inc temp</th>\n",
    "    <th>Ann time</th> \n",
    "    <th>Ann temp</th> \n",
    "    <th>Ann incr temp</th>\n",
    "    <th>Ext time</th>\n",
    "    <th>Ext temp</th>\n",
    "    <th>Ext incr temp</th>\n",
    "    <th>First tube</th>\n",
    "    <th>Last tube</th>\n",
    "    <th>Cycles</th>\n",
    "  </tr>\n",
    "  <tr>\n",
    "    <td>mcselected</td>\n",
    "    <td>300 sec</td> \n",
    "    <td>95 °C</td>\n",
    "    <td>0 °C</td>\n",
    "    <td>15 sec</td> \n",
    "    <td>95 °C</td>\n",
    "    <td>0 °C</td>\n",
    "    <td>15 sec</td> \n",
    "    <td>53 °C</td> \n",
    "    <td>0.1 °C</td>\n",
    "    <td>10 sec</td> \n",
    "    <td>72 °C</td>\n",
    "    <td>0 °C</td>\n",
    "    <td>Tube 1</td> \n",
    "    <td>Tube 16</td>\n",
    "    <td>35</td>\n",
    "  </tr>\n",
    "</table>\n",
    "</div><table style=\"width:100%\"><div class=\"Title\">\n",
    "        <p>Annealing temperature distribution</p>\n",
    "    </div>\n",
    "  <tr>\n",
    "    <th>Tube 1</th>\n",
    "    <th>Tube 2</th> \n",
    "    <th>Tube 3</th>\n",
    "    <th>Tube 4</th>\n",
    "    <th>Tube 5</th>\n",
    "    <th>Tube 6</th>\n",
    "    <th>Tube 7</th>\n",
    "    <th>Tube 8</th>\n",
    "    <th>Tube 9</th>\n",
    "    <th>Tube 10</th> \n",
    "    <th>Tube 11</th>\n",
    "    <th>Tube 12</th>\n",
    "    <th>Tube 13</th>\n",
    "    <th>Tube 14</th>\n",
    "    <th>Tube 15</th>\n",
    "    <th>Tube 16</th>\n",
    "        \n",
    "  </tr>\n",
    "  <tr>\n",
    "    <th>53.0 °C</th>\n",
    "    <th>53.1 °C</th> \n",
    "    <th>53.2 °C</th>\n",
    "    <th>53.3 °C</th>\n",
    "    <th>53.4 °C</th>\n",
    "    <th>53.5 °C</th>\n",
    "    <th>53.6 °C</th>\n",
    "    <th>53.7 °C</th>\n",
    "    <th>53.8 °C</th>\n",
    "    <th>53.9 °C</th> \n",
    "    <th>54.0 °C</th>\n",
    "    <th>54.1 °C</th>\n",
    "    <th>54.2 °C</th>\n",
    "    <th>54.3 °C</th>\n",
    "    <th>54.4 °C</th>\n",
    "    <th>54.5 °C</th>\n",
    "  </tr>\n",
    "</table>"
   ]
  },
  {
   "cell_type": "code",
   "execution_count": 1,
   "metadata": {
    "extensions": {
     "jupyter_dashboards": {
      "version": 1,
      "views": {
       "grid_default": {
        "col": 0,
        "height": 4,
        "hidden": false,
        "row": 10,
        "width": 4
       },
       "report_default": {
        "hidden": false
       }
      }
     }
    }
   },
   "outputs": [
    {
     "name": "stdout",
     "output_type": "stream",
     "text": [
      "All set\n"
     ]
    }
   ],
   "source": [
    "%run coreimp-new.py                                                  #run this line to import all libraries"
   ]
  },
  {
   "cell_type": "code",
   "execution_count": 2,
   "metadata": {
    "collapsed": true,
    "extensions": {
     "jupyter_dashboards": {
      "version": 1,
      "views": {
       "grid_default": {
        "hidden": true
       },
       "report_default": {
        "hidden": true
       }
      }
     }
    }
   },
   "outputs": [],
   "source": [
    "icube=MinicubeScanner.scan_network                               #find the first minicube on the network"
   ]
  },
  {
   "cell_type": "code",
   "execution_count": 3,
   "metadata": {
    "collapsed": true,
    "extensions": {
     "jupyter_dashboards": {
      "version": 1,
      "views": {
       "grid_default": {
        "hidden": true
       },
       "report_default": {
        "hidden": true
       }
      }
     }
    }
   },
   "outputs": [],
   "source": [
    "mcselected = icube()                                             #we need to pass the minicube to a variable"
   ]
  },
  {
   "cell_type": "code",
   "execution_count": 4,
   "metadata": {},
   "outputs": [
    {
     "data": {
      "text/plain": [
       "['minicubepcr-00002E']"
      ]
     },
     "execution_count": 4,
     "metadata": {},
     "output_type": "execute_result"
    }
   ],
   "source": [
    "mcselected"
   ]
  },
  {
   "cell_type": "markdown",
   "metadata": {
    "extensions": {
     "jupyter_dashboards": {
      "version": 1,
      "views": {
       "grid_default": {
        "col": 4,
        "height": 4,
        "hidden": false,
        "row": 10,
        "width": 4
       },
       "report_default": {
        "hidden": false
       }
      }
     }
    }
   },
   "source": [
    "#### <font color=black>Setup Two Stage Temp Sweep PCR</font>"
   ]
  },
  {
   "cell_type": "code",
   "execution_count": 8,
   "metadata": {
    "extensions": {
     "jupyter_dashboards": {
      "version": 1,
      "views": {
       "grid_default": {
        "hidden": true
       },
       "report_default": {
        "hidden": true
       }
      }
     }
    }
   },
   "outputs": [],
   "source": [
    "%%capture experimentoutput --no-stderr                            \n",
    "b=MinicubeSweeps.twostage_pcr_tempsweep(mcselected, 300, 95,0.1, 15,95,0, 15,53,0.1, 1, 16, 500) "
   ]
  },
  {
   "cell_type": "markdown",
   "metadata": {
    "extensions": {
     "jupyter_dashboards": {
      "version": 1,
      "views": {
       "grid_default": {
        "col": 8,
        "height": 4,
        "hidden": false,
        "row": 10,
        "width": 4
       },
       "report_default": {
        "hidden": false
       }
      }
     }
    }
   },
   "source": [
    "#### <font color=black>Setup Three Stage Temp Sweep PCR</font>"
   ]
  },
  {
   "cell_type": "code",
   "execution_count": 15,
   "metadata": {
    "collapsed": true,
    "extensions": {
     "jupyter_dashboards": {
      "version": 1,
      "views": {
       "grid_default": {
        "hidden": true
       },
       "report_default": {
        "hidden": true
       }
      }
     }
    }
   },
   "outputs": [],
   "source": [
    "%%capture experimentoutput --no-stderr\n",
    "#MinicubeSweeps.threestage_pcr_tempsweep(  mcselected  , inimelttime, inimelttemp, initempstep, melttime, melttemp, melttempstep, anntime, anntemp, anntempstep, exttime, exttemp, exttempstep, tubestart, tubeend, num_of_cycles )\n",
    "b=MinicubeSweeps.threestage_pcr_tempsweep(mcselected,300,95,0,15,95,0,15,53,0.1,15,72,0, 1, 16, 35)  "
   ]
  },
  {
   "cell_type": "markdown",
   "metadata": {
    "extensions": {
     "jupyter_dashboards": {
      "version": 1,
      "views": {
       "grid_default": {
        "col": 0,
        "height": 4,
        "hidden": false,
        "row": 14,
        "width": 4
       },
       "report_default": {
        "hidden": false
       }
      }
     }
    }
   },
   "source": [
    "#### <font color=black>Start experiments</font>"
   ]
  },
  {
   "cell_type": "code",
   "execution_count": 6,
   "metadata": {
    "collapsed": true,
    "extensions": {
     "jupyter_dashboards": {
      "version": 1,
      "views": {
       "grid_default": {
        "hidden": true
       },
       "report_default": {
        "hidden": true
       }
      }
     }
    }
   },
   "outputs": [],
   "source": [
    "resp = requests.request('GET', url=b.base_uri+\"/start\")           #Starts the experiments without need to press the \n",
    "                                                                  #button at the machine"
   ]
  },
  {
   "cell_type": "markdown",
   "metadata": {
    "extensions": {
     "jupyter_dashboards": {
      "version": 1,
      "views": {
       "grid_default": {
        "col": 4,
        "height": 4,
        "hidden": false,
        "row": 14,
        "width": 4
       },
       "report_default": {
        "hidden": false
       }
      }
     }
    }
   },
   "source": [
    "#### <font color=black>Stop all experiments</font>"
   ]
  },
  {
   "cell_type": "code",
   "execution_count": 7,
   "metadata": {
    "collapsed": true,
    "extensions": {
     "jupyter_dashboards": {
      "version": 1,
      "views": {
       "grid_default": {
        "hidden": true
       },
       "report_default": {
        "hidden": true
       }
      }
     }
    }
   },
   "outputs": [],
   "source": [
    "resp = requests.request('GET', url=b.base_uri+\"/stop\")            #Stops all running eperiments instantaneously"
   ]
  },
  {
   "cell_type": "code",
   "execution_count": 21,
   "metadata": {
    "collapsed": true
   },
   "outputs": [],
   "source": []
  },
  {
   "cell_type": "code",
   "execution_count": null,
   "metadata": {
    "collapsed": true
   },
   "outputs": [],
   "source": []
  }
 ],
 "metadata": {
  "extensions": {
   "jupyter_dashboards": {
    "activeView": "grid_default",
    "version": 1,
    "views": {
     "grid_default": {
      "cellMargin": 10,
      "defaultCellHeight": 20,
      "maxColumns": 12,
      "name": "grid",
      "type": "grid"
     },
     "report_default": {
      "name": "report",
      "type": "report"
     }
    }
   }
  },
  "kernelspec": {
   "display_name": "Python 2",
   "language": "python",
   "name": "python2"
  },
  "language_info": {
   "codemirror_mode": {
    "name": "ipython",
    "version": 2
   },
   "file_extension": ".py",
   "mimetype": "text/x-python",
   "name": "python",
   "nbconvert_exporter": "python",
   "pygments_lexer": "ipython2",
   "version": "2.7.14"
  },
  "toc": {
   "colors": {
    "hover_highlight": "#DAA520",
    "navigate_num": "#000000",
    "navigate_text": "#333333",
    "running_highlight": "#FF0000",
    "selected_highlight": "#FFD700",
    "sidebar_border": "#EEEEEE",
    "wrapper_background": "#FFFFFF"
   },
   "moveMenuLeft": true,
   "nav_menu": {
    "height": "12px",
    "width": "252px"
   },
   "navigate_menu": true,
   "number_sections": true,
   "sideBar": true,
   "threshold": 4,
   "toc_cell": false,
   "toc_section_display": "block",
   "toc_window_display": false,
   "widenNotebook": false
  }
 },
 "nbformat": 4,
 "nbformat_minor": 2
}
